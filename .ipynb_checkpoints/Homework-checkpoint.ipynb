{
 "cells": [
  {
   "cell_type": "code",
   "execution_count": null,
   "metadata": {},
   "outputs": [],
   "source": [
    "from pprint import pprint\n",
    "import requests\n",
    "from urllib.parse import urlencode\n",
    "\n",
    "APP_ID = input('Оставлять мои персональные айдишники с токенами не выглядит хорошей идеей, поэтому введите, пожалуйста, ID своего приложения: ')\n",
    "OAUTH_URL = 'https://oauth.vk.com/authorize'\n",
    "oauth_data = {\n",
    "    'client_id': APP_ID,\n",
    "    'display': 'page',\n",
    "    'scope': 'friends',\n",
    "    'response_type': 'token'\n",
    "}\n",
    "print(' ')\n",
    "print('Необходимо получить токен по данной ссылке, либо ввести имеющийся')\n",
    "print('?'.join((OAUTH_URL, urlencode(oauth_data))))\n",
    "print(' ')\n",
    "TOKEN = input('Введите токен: ')\n",
    "print(' ')\n",
    "id1 = input('Введите id 1 пользователя: ')\n",
    "id2 = input('Введите id 2 пользователя: ')\n",
    "\n",
    "\n",
    "class User:\n",
    "    \n",
    "    def __init__(self, id):\n",
    "        self.id = id\n",
    "        \n",
    "    def __and__(self, other):\n",
    "        params = {\n",
    "            'source_uid': self.id,\n",
    "            'target_uid': other.id,\n",
    "            'access_token': TOKEN,\n",
    "            'v': '5.74'\n",
    "        }\n",
    "        response = requests.get('https://api.vk.com/method/friends.getMutual', params)\n",
    "        return response.json()\n",
    "    \n",
    "    def __str__(self):\n",
    "        return 'https://vk.com/' + str(self.id)\n",
    "    \n",
    "        \n",
    "user1 = User(id1)\n",
    "user2 = User(id2)\n",
    "\n",
    "rez = user1 & user2\n",
    "\n",
    "print(user1)\n",
    "print(user2)\n",
    "\n",
    "pprint(rez)"
   ]
  }
 ],
 "metadata": {
  "kernelspec": {
   "display_name": "Python 3",
   "language": "python",
   "name": "python3"
  },
  "language_info": {
   "codemirror_mode": {
    "name": "ipython",
    "version": 3
   },
   "file_extension": ".py",
   "mimetype": "text/x-python",
   "name": "python",
   "nbconvert_exporter": "python",
   "pygments_lexer": "ipython3",
   "version": "3.6.5"
  }
 },
 "nbformat": 4,
 "nbformat_minor": 2
}
