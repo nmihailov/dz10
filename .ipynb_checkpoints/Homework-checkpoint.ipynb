{
 "cells": [
  {
   "cell_type": "code",
   "execution_count": 55,
   "metadata": {},
   "outputs": [
    {
     "name": "stdout",
     "output_type": "stream",
     "text": [
      "Оставлять мои персональные айдишники с токенами не выглядит хорошей идеей, поэтому введите, пожалуйста, ID своего приложения: 6704311\n",
      " \n",
      "Необходимо получить токен по данной ссылке, либо ввести имеющийся\n",
      "https://oauth.vk.com/authorize?client_id=6704311&display=page&scope=friends&response_type=token\n",
      " \n",
      "Введите токен: 9f7e54e671e6024fa2eca93f5307d302b4755922f0702099f8d969e7572e8a6e7a84c736637f33d9cda01\n",
      " \n",
      "Введите id 1 пользователя: 14139736\n",
      "Введите id 2 пользователя: 147659501\n",
      "{'error': {'error_code': 15,\n",
      "           'error_msg': 'Access denied: no access to call this method',\n",
      "           'request_params': [{'key': 'oauth', 'value': '1'},\n",
      "                              {'key': 'method', 'value': 'friends.getMutual'},\n",
      "                              {'key': 'source_uid', 'value': '14139736'},\n",
      "                              {'key': 'target_uid', 'value': '147659501'},\n",
      "                              {'key': 'v', 'value': '5.74'}]}}\n"
     ]
    }
   ],
   "source": [
    "from pprint import pprint\n",
    "import requests\n",
    "from urllib.parse import urlencode\n",
    "\n",
    "APP_ID = input('Оставлять мои персональные айдишники с токенами не выглядит хорошей идеей, поэтому введите, пожалуйста, ID своего приложения: ')\n",
    "OAUTH_URL = 'https://oauth.vk.com/authorize'\n",
    "oauth_data = {\n",
    "    'client_id': APP_ID,\n",
    "    'display': 'page',\n",
    "    'scope': 'friends',\n",
    "    'response_type': 'token'\n",
    "}\n",
    "print(' ')\n",
    "print('Необходимо получить токен по данной ссылке, либо ввести имеющийся')\n",
    "print('?'.join((OAUTH_URL, urlencode(oauth_data))))\n",
    "print(' ')\n",
    "TOKEN = input('Введите токен: ')\n",
    "print(' ')\n",
    "id1 = input('Введите id 1 пользователя: ')\n",
    "id2 = input('Введите id 2 пользователя: ')\n",
    "\n",
    "\n",
    "class User:\n",
    "    \n",
    "    def __init__(self, id):\n",
    "        self.id = id\n",
    "        \n",
    "    def __and__(self, other):\n",
    "        params = {\n",
    "            'source_uid': self.id,\n",
    "            'target_uid': other.id,\n",
    "            'access_token': TOKEN,\n",
    "            'v': '5.74'\n",
    "        }\n",
    "        response = requests.get('https://api.vk.com/method/friends.getMutual', params)\n",
    "        return response.json()\n",
    "    \n",
    "        \n",
    "user1 = User(id1)\n",
    "user2 = User(id2)\n",
    "rez = user1 & user2\n",
    "\n",
    "pprint(rez)\n"
   ]
  },
  {
   "cell_type": "code",
   "execution_count": null,
   "metadata": {},
   "outputs": [],
   "source": []
  }
 ],
 "metadata": {
  "kernelspec": {
   "display_name": "Python 3",
   "language": "python",
   "name": "python3"
  },
  "language_info": {
   "codemirror_mode": {
    "name": "ipython",
    "version": 3
   },
   "file_extension": ".py",
   "mimetype": "text/x-python",
   "name": "python",
   "nbconvert_exporter": "python",
   "pygments_lexer": "ipython3",
   "version": "3.6.5"
  }
 },
 "nbformat": 4,
 "nbformat_minor": 2
}
